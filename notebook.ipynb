{
 "cells": [
  {
   "cell_type": "markdown",
   "metadata": {},
   "source": [
    "# You can get the dataset from here \n",
    "https://www.kaggle.com/datasets/umerfarooq09/skill-based-task-assignment"
   ]
  },
  {
   "cell_type": "markdown",
   "metadata": {},
   "source": [
    "# The imports "
   ]
  },
  {
   "cell_type": "code",
   "execution_count": 1,
   "metadata": {},
   "outputs": [],
   "source": [
    "import pandas as pd\n",
    "from langchain import PromptTemplate\n",
    "import google.generativeai as genai\n",
    "import json"
   ]
  },
  {
   "cell_type": "markdown",
   "metadata": {},
   "source": [
    "# Consultation"
   ]
  },
  {
   "cell_type": "code",
   "execution_count": 3,
   "metadata": {},
   "outputs": [],
   "source": [
    "data = pd.read_csv('Task Catagories.csv.csv')"
   ]
  },
  {
   "cell_type": "code",
   "execution_count": 4,
   "metadata": {},
   "outputs": [
    {
     "data": {
      "text/html": [
       "<div>\n",
       "<style scoped>\n",
       "    .dataframe tbody tr th:only-of-type {\n",
       "        vertical-align: middle;\n",
       "    }\n",
       "\n",
       "    .dataframe tbody tr th {\n",
       "        vertical-align: top;\n",
       "    }\n",
       "\n",
       "    .dataframe thead th {\n",
       "        text-align: right;\n",
       "    }\n",
       "</style>\n",
       "<table border=\"1\" class=\"dataframe\">\n",
       "  <thead>\n",
       "    <tr style=\"text-align: right;\">\n",
       "      <th></th>\n",
       "      <th>Task Description</th>\n",
       "      <th>Category</th>\n",
       "      <th>Skill</th>\n",
       "    </tr>\n",
       "  </thead>\n",
       "  <tbody>\n",
       "    <tr>\n",
       "      <th>0</th>\n",
       "      <td>Implement user authentication</td>\n",
       "      <td>backend</td>\n",
       "      <td>spring boot</td>\n",
       "    </tr>\n",
       "    <tr>\n",
       "      <th>1</th>\n",
       "      <td>Optimize server performance</td>\n",
       "      <td>backend</td>\n",
       "      <td>asp.net</td>\n",
       "    </tr>\n",
       "    <tr>\n",
       "      <th>2</th>\n",
       "      <td>Manage database operations</td>\n",
       "      <td>backend</td>\n",
       "      <td>django</td>\n",
       "    </tr>\n",
       "    <tr>\n",
       "      <th>3</th>\n",
       "      <td>Implement user authentication</td>\n",
       "      <td>backend</td>\n",
       "      <td>api</td>\n",
       "    </tr>\n",
       "    <tr>\n",
       "      <th>4</th>\n",
       "      <td>Build a microservice</td>\n",
       "      <td>backend</td>\n",
       "      <td>kotlin</td>\n",
       "    </tr>\n",
       "  </tbody>\n",
       "</table>\n",
       "</div>"
      ],
      "text/plain": [
       "                Task Description Category        Skill\n",
       "0  Implement user authentication  backend  spring boot\n",
       "1    Optimize server performance  backend      asp.net\n",
       "2     Manage database operations  backend       django\n",
       "3  Implement user authentication  backend          api\n",
       "4           Build a microservice  backend       kotlin"
      ]
     },
     "execution_count": 4,
     "metadata": {},
     "output_type": "execute_result"
    }
   ],
   "source": [
    "data.head()"
   ]
  },
  {
   "cell_type": "code",
   "execution_count": 5,
   "metadata": {},
   "outputs": [
    {
     "data": {
      "text/plain": [
       "Task Description    0\n",
       "Category            0\n",
       "Skill               0\n",
       "dtype: int64"
      ]
     },
     "execution_count": 5,
     "metadata": {},
     "output_type": "execute_result"
    }
   ],
   "source": [
    "data.isnull().sum()"
   ]
  },
  {
   "cell_type": "code",
   "execution_count": 6,
   "metadata": {},
   "outputs": [
    {
     "data": {
      "text/plain": [
       "20122"
      ]
     },
     "execution_count": 6,
     "metadata": {},
     "output_type": "execute_result"
    }
   ],
   "source": [
    "len(data)"
   ]
  },
  {
   "cell_type": "markdown",
   "metadata": {},
   "source": [
    "# Step 1: Extract unique words from 'Task Description'"
   ]
  },
  {
   "cell_type": "code",
   "execution_count": null,
   "metadata": {},
   "outputs": [],
   "source": [
    "def extract_unique_words(df, column_name):\n",
    "    # Extract words, remove duplicates, and lowercase them\n",
    "    words = set(word.lower() for desc in df[column_name] for word in desc.split())\n",
    "    return list(words)\n",
    "\n",
    "unique_words = extract_unique_words(data, 'Task Description')"
   ]
  },
  {
   "cell_type": "markdown",
   "metadata": {},
   "source": [
    "# Step 2: Initialize Google Gemini model"
   ]
  },
  {
   "cell_type": "code",
   "execution_count": null,
   "metadata": {},
   "outputs": [],
   "source": [
    "api_key = 'YOUR_GEMINI_API_KEY'\n",
    "genai.configure(api_key=api_key)\n",
    "llm = genai.GenerativeModel('models/gemini-1.5-flash')"
   ]
  },
  {
   "cell_type": "markdown",
   "metadata": {},
   "source": [
    "# Step 3: Use the template to reformulate <br>prompt based on user input and unique words"
   ]
  },
  {
   "cell_type": "code",
   "execution_count": null,
   "metadata": {},
   "outputs": [],
   "source": [
    "# Define PromptTemplate for generating related keywords from user prompt and unique words\n",
    "prompt_template = PromptTemplate(\n",
    "    input_variables=[\"prompt\", \"unique_words\"],\n",
    "    template=\"\"\"\n",
    "    Based on the task descriptions and unique keywords below, generate a comma-separated list \n",
    "    of relevant keywords related to the user prompt.\n",
    "    User prompt: \"{prompt}\"\n",
    "    Unique keywords from task descriptions: {unique_words}\n",
    "    \"\"\"\n",
    ") \n",
    "def get_related_keywords(user_prompt, unique_words, llm):\n",
    "    prompt = prompt_template.format(prompt=user_prompt, unique_words=unique_words)\n",
    "    response = llm.generate_content(prompt)\n",
    "    return response.text.split(', ')"
   ]
  },
  {
   "cell_type": "markdown",
   "metadata": {},
   "source": [
    "# Step 4: Filter DataFrame based <br>on retrieved keywords across all columns"
   ]
  },
  {
   "cell_type": "code",
   "execution_count": null,
   "metadata": {},
   "outputs": [],
   "source": [
    "def filter_tasks_by_keywords(df, keywords):\n",
    "    # Create masks for each column\n",
    "    task_mask = df['Task Description'].str.contains('|'.join(keywords), case=False, na=False)\n",
    "    category_mask = df['Category'].str.contains('|'.join(keywords), case=False, na=False)\n",
    "    skill_mask = df['Skill'].str.contains('|'.join(keywords), case=False, na=False)\n",
    "    \n",
    "    # Combine masks with OR operation\n",
    "    combined_mask = task_mask | category_mask | skill_mask\n",
    "    \n",
    "    # Filter DataFrame\n",
    "    filtered_df = df[combined_mask]\n",
    "    return filtered_df"
   ]
  },
  {
   "cell_type": "markdown",
   "metadata": {},
   "source": [
    "# Step 5: Combine the filtered tasks <br>with the user prompt and query <br>Gemini for the final answer"
   ]
  },
  {
   "cell_type": "code",
   "execution_count": null,
   "metadata": {},
   "outputs": [],
   "source": [
    "def query_llm_for_answer(filtered_tasks, original_prompt, llm):\n",
    "    # Format each row as a structured entry\n",
    "    formatted_tasks = []\n",
    "    for _, row in filtered_tasks.iterrows():\n",
    "        task_entry = (\n",
    "            f\"Task: {row['Task Description']}\\n\"\n",
    "            f\"Category: {row['Category']}\\n\"\n",
    "            f\"Required Skill: {row['Skill']}\"\n",
    "        )\n",
    "        formatted_tasks.append(task_entry)\n",
    "    \n",
    "    # Join all formatted entries\n",
    "    tasks_text = \"\\n\\n\".join(formatted_tasks)\n",
    "    \n",
    "    final_prompt = f\"\"\"\n",
    "    Here are the relevant tasks with their categories and required skills:\n",
    "    \n",
    "    {tasks_text}\n",
    "    \n",
    "    Based on these tasks, please analyze and provide the most relevant matches for the following request:\n",
    "    \"{original_prompt}\"\n",
    "    \n",
    "    Please structure your response to include:\n",
    "    1. The most relevant task(s)\n",
    "    2. Their categories\n",
    "    3. Required skills\n",
    "    Only include information that is directly relevant to the user's request.\n",
    "    \"\"\"\n",
    "    \n",
    "    final_response = llm.generate_content(final_prompt)\n",
    "    return final_response.text\n"
   ]
  },
  {
   "cell_type": "markdown",
   "metadata": {},
   "source": [
    "# Example usage"
   ]
  },
  {
   "cell_type": "code",
   "execution_count": 22,
   "metadata": {},
   "outputs": [
    {
     "name": "stdout",
     "output_type": "stream",
     "text": [
      "Response to user: Here's the analysis of \"Website creation\" based on the provided tasks:\n",
      "\n",
      "1. **Most Relevant Tasks:**\n",
      "    * **Create a responsive website**\n",
      "    * **Implement a landing page**\n",
      "    * **Improve website accessibility**\n",
      "    * **Design a user-friendly interface**\n",
      "\n",
      "2. **Categories:** \n",
      "    * Frontend\n",
      "\n",
      "3. **Required Skills:**\n",
      "    * HTML\n",
      "    * CSS\n",
      "    * JavaScript\n",
      "    * Bootstrap\n",
      "    * Foundation\n",
      "    * Materialize\n",
      "    * Vue\n",
      "    * React\n",
      "    * Redux\n",
      "    * Sass\n",
      "    * UX\n",
      "    * UI\n",
      "    * jQuery\n",
      "    * User-friendly \n",
      "    * ARIA \n",
      "\n"
     ]
    }
   ],
   "source": [
    "user_prompt = \"Website creation\"\n",
    "related_keywords = get_related_keywords(user_prompt, unique_words, llm)\n",
    "filtered_tasks = filter_tasks_by_keywords(df, related_keywords)\n",
    "response = query_llm_for_answer(filtered_tasks, user_prompt, llm)\n",
    "print(\"Response to user:\", response)"
   ]
  },
  {
   "cell_type": "markdown",
   "metadata": {},
   "source": [
    "# Saving unique words"
   ]
  },
  {
   "cell_type": "code",
   "execution_count": 20,
   "metadata": {},
   "outputs": [],
   "source": [
    "def save_unique_words(df):\n",
    "    # Extract unique words from 'Task Description'\n",
    "    words = set(word.lower() for desc in df['Task Description'] for word in desc.split())\n",
    "    \n",
    "    # Save to JSON file\n",
    "    with open('unique_words.json', 'w') as f:\n",
    "        json.dump(list(words), f)\n",
    "\n",
    "save_unique_words(data)"
   ]
  },
  {
   "cell_type": "code",
   "execution_count": null,
   "metadata": {},
   "outputs": [],
   "source": []
  }
 ],
 "metadata": {
  "kernelspec": {
   "display_name": "Python 3",
   "language": "python",
   "name": "python3"
  },
  "language_info": {
   "codemirror_mode": {
    "name": "ipython",
    "version": 3
   },
   "file_extension": ".py",
   "mimetype": "text/x-python",
   "name": "python",
   "nbconvert_exporter": "python",
   "pygments_lexer": "ipython3",
   "version": "3.10.12"
  }
 },
 "nbformat": 4,
 "nbformat_minor": 2
}
